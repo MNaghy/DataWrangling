{
 "cells": [
  {
   "cell_type": "markdown",
   "id": "61aeca4d",
   "metadata": {},
   "source": [
    "# Data Cleaning & Analysis"
   ]
  },
  {
   "cell_type": "markdown",
   "id": "dc4f0a3d",
   "metadata": {},
   "source": [
    "## Importing the Needed Library"
   ]
  },
  {
   "cell_type": "code",
   "execution_count": 67,
   "id": "dfaba924",
   "metadata": {},
   "outputs": [],
   "source": [
    "import pandas as pd\n",
    "import string\n",
    "import json"
   ]
  },
  {
   "cell_type": "markdown",
   "id": "e5e1b7fb",
   "metadata": {},
   "source": [
    "## Creating a DataFrame"
   ]
  },
  {
   "cell_type": "code",
   "execution_count": 50,
   "id": "d5892e60",
   "metadata": {},
   "outputs": [
    {
     "data": {
      "text/html": [
       "<div>\n",
       "<style scoped>\n",
       "    .dataframe tbody tr th:only-of-type {\n",
       "        vertical-align: middle;\n",
       "    }\n",
       "\n",
       "    .dataframe tbody tr th {\n",
       "        vertical-align: top;\n",
       "    }\n",
       "\n",
       "    .dataframe thead th {\n",
       "        text-align: right;\n",
       "    }\n",
       "</style>\n",
       "<table border=\"1\" class=\"dataframe\">\n",
       "  <thead>\n",
       "    <tr style=\"text-align: right;\">\n",
       "      <th></th>\n",
       "      <th>ID</th>\n",
       "      <th>job_title</th>\n",
       "      <th>resume</th>\n",
       "      <th>link</th>\n",
       "      <th>domain</th>\n",
       "      <th>location</th>\n",
       "    </tr>\n",
       "  </thead>\n",
       "  <tbody>\n",
       "    <tr>\n",
       "      <th>0</th>\n",
       "      <td>1</td>\n",
       "      <td>Entry Data Biomedical Engineer</td>\n",
       "      <td>\\n* ** *\\nAbbas Nasoori\\nElectrical Engineer &amp;...</td>\n",
       "      <td>https://www.postjobfree.com/resume/adp9ec/entr...</td>\n",
       "      <td>Engineering</td>\n",
       "      <td>Canada</td>\n",
       "    </tr>\n",
       "    <tr>\n",
       "      <th>1</th>\n",
       "      <td>2</td>\n",
       "      <td>Biomedical Engineer Safety Officer</td>\n",
       "      <td>\\nBIJAN DADOLAHI SARAB\\n\\n** ******** **** ***...</td>\n",
       "      <td>https://www.postjobfree.com/resume/adn6b9/biom...</td>\n",
       "      <td>Engineering</td>\n",
       "      <td>Canada</td>\n",
       "    </tr>\n",
       "    <tr>\n",
       "      <th>2</th>\n",
       "      <td>3</td>\n",
       "      <td>Biomedical engineer electrical engineer medica...</td>\n",
       "      <td>\\nClaudia Lutfallah\\nMedical Devices Customer ...</td>\n",
       "      <td>https://www.postjobfree.com/resume/adeeic/biom...</td>\n",
       "      <td>Engineering</td>\n",
       "      <td>Canada</td>\n",
       "    </tr>\n",
       "    <tr>\n",
       "      <th>3</th>\n",
       "      <td>4</td>\n",
       "      <td>Biomedical Engineer</td>\n",
       "      <td>\\nRIDDHI THAKKAR\\n\\n* ******* **. *********, *...</td>\n",
       "      <td>https://www.postjobfree.com/resume/adc4gn/biom...</td>\n",
       "      <td>Engineering</td>\n",
       "      <td>Canada</td>\n",
       "    </tr>\n",
       "    <tr>\n",
       "      <th>4</th>\n",
       "      <td>5</td>\n",
       "      <td>Biomedical Mechanical Engineer</td>\n",
       "      <td>\\n/\\nAMR\\nHASSAN\\nadcxpe@r.postjobfree.com\\n61...</td>\n",
       "      <td>https://www.postjobfree.com/resume/adcxpe/soli...</td>\n",
       "      <td>Engineering</td>\n",
       "      <td>Canada</td>\n",
       "    </tr>\n",
       "  </tbody>\n",
       "</table>\n",
       "</div>"
      ],
      "text/plain": [
       "   ID                                          job_title  \\\n",
       "0   1                     Entry Data Biomedical Engineer   \n",
       "1   2                 Biomedical Engineer Safety Officer   \n",
       "2   3  Biomedical engineer electrical engineer medica...   \n",
       "3   4                                Biomedical Engineer   \n",
       "4   5                     Biomedical Mechanical Engineer   \n",
       "\n",
       "                                              resume  \\\n",
       "0  \\n* ** *\\nAbbas Nasoori\\nElectrical Engineer &...   \n",
       "1  \\nBIJAN DADOLAHI SARAB\\n\\n** ******** **** ***...   \n",
       "2  \\nClaudia Lutfallah\\nMedical Devices Customer ...   \n",
       "3  \\nRIDDHI THAKKAR\\n\\n* ******* **. *********, *...   \n",
       "4  \\n/\\nAMR\\nHASSAN\\nadcxpe@r.postjobfree.com\\n61...   \n",
       "\n",
       "                                                link       domain location  \n",
       "0  https://www.postjobfree.com/resume/adp9ec/entr...  Engineering   Canada  \n",
       "1  https://www.postjobfree.com/resume/adn6b9/biom...  Engineering   Canada  \n",
       "2  https://www.postjobfree.com/resume/adeeic/biom...  Engineering   Canada  \n",
       "3  https://www.postjobfree.com/resume/adc4gn/biom...  Engineering   Canada  \n",
       "4  https://www.postjobfree.com/resume/adcxpe/soli...  Engineering   Canada  "
      ]
     },
     "execution_count": 50,
     "metadata": {},
     "output_type": "execute_result"
    }
   ],
   "source": [
    "df=pd.read_json('BulkResumesAll.json')\n",
    "df.head()"
   ]
  },
  {
   "cell_type": "code",
   "execution_count": 51,
   "id": "08b7fff0",
   "metadata": {},
   "outputs": [],
   "source": [
    "#  Converting the type of the data to string\n",
    "df[['job_title', 'resume', 'domain', 'location']]=df[['job_title', 'resume', 'domain', 'location']].astype('string')"
   ]
  },
  {
   "cell_type": "code",
   "execution_count": 52,
   "id": "19a41171",
   "metadata": {},
   "outputs": [
    {
     "data": {
      "text/html": [
       "<div>\n",
       "<style scoped>\n",
       "    .dataframe tbody tr th:only-of-type {\n",
       "        vertical-align: middle;\n",
       "    }\n",
       "\n",
       "    .dataframe tbody tr th {\n",
       "        vertical-align: top;\n",
       "    }\n",
       "\n",
       "    .dataframe thead th {\n",
       "        text-align: right;\n",
       "    }\n",
       "</style>\n",
       "<table border=\"1\" class=\"dataframe\">\n",
       "  <thead>\n",
       "    <tr style=\"text-align: right;\">\n",
       "      <th></th>\n",
       "      <th>job_title</th>\n",
       "      <th>resume</th>\n",
       "      <th>link</th>\n",
       "      <th>domain</th>\n",
       "      <th>location</th>\n",
       "    </tr>\n",
       "    <tr>\n",
       "      <th>ID</th>\n",
       "      <th></th>\n",
       "      <th></th>\n",
       "      <th></th>\n",
       "      <th></th>\n",
       "      <th></th>\n",
       "    </tr>\n",
       "  </thead>\n",
       "  <tbody>\n",
       "    <tr>\n",
       "      <th>1</th>\n",
       "      <td>Entry Data Biomedical Engineer</td>\n",
       "      <td>* ** *\n",
       "Abbas Nasoori\n",
       "Electrical Engineer &amp; Bi...</td>\n",
       "      <td>https://www.postjobfree.com/resume/adp9ec/entr...</td>\n",
       "      <td>Engineering</td>\n",
       "      <td>Canada</td>\n",
       "    </tr>\n",
       "    <tr>\n",
       "      <th>2</th>\n",
       "      <td>Biomedical Engineer Safety Officer</td>\n",
       "      <td>BIJAN DADOLAHI SARAB\n",
       "\n",
       "** ******** **** ****• ...</td>\n",
       "      <td>https://www.postjobfree.com/resume/adn6b9/biom...</td>\n",
       "      <td>Engineering</td>\n",
       "      <td>Canada</td>\n",
       "    </tr>\n",
       "    <tr>\n",
       "      <th>3</th>\n",
       "      <td>Biomedical engineer electrical engineer medica...</td>\n",
       "      <td>Claudia Lutfallah\n",
       "Medical Devices Customer Re...</td>\n",
       "      <td>https://www.postjobfree.com/resume/adeeic/biom...</td>\n",
       "      <td>Engineering</td>\n",
       "      <td>Canada</td>\n",
       "    </tr>\n",
       "    <tr>\n",
       "      <th>4</th>\n",
       "      <td>Biomedical Engineer</td>\n",
       "      <td>RIDDHI THAKKAR\n",
       "\n",
       "* ******* **. *********, ****...</td>\n",
       "      <td>https://www.postjobfree.com/resume/adc4gn/biom...</td>\n",
       "      <td>Engineering</td>\n",
       "      <td>Canada</td>\n",
       "    </tr>\n",
       "    <tr>\n",
       "      <th>5</th>\n",
       "      <td>Biomedical Mechanical Engineer</td>\n",
       "      <td>/\n",
       "AMR\n",
       "HASSAN\n",
       "adcxpe@r.postjobfree.com\n",
       "613-***...</td>\n",
       "      <td>https://www.postjobfree.com/resume/adcxpe/soli...</td>\n",
       "      <td>Engineering</td>\n",
       "      <td>Canada</td>\n",
       "    </tr>\n",
       "  </tbody>\n",
       "</table>\n",
       "</div>"
      ],
      "text/plain": [
       "                                            job_title  \\\n",
       "ID                                                      \n",
       "1                      Entry Data Biomedical Engineer   \n",
       "2                  Biomedical Engineer Safety Officer   \n",
       "3   Biomedical engineer electrical engineer medica...   \n",
       "4                                 Biomedical Engineer   \n",
       "5                      Biomedical Mechanical Engineer   \n",
       "\n",
       "                                               resume  \\\n",
       "ID                                                      \n",
       "1   \n",
       "* ** *\n",
       "Abbas Nasoori\n",
       "Electrical Engineer & Bi...   \n",
       "2   \n",
       "BIJAN DADOLAHI SARAB\n",
       "\n",
       "** ******** **** ****• ...   \n",
       "3   \n",
       "Claudia Lutfallah\n",
       "Medical Devices Customer Re...   \n",
       "4   \n",
       "RIDDHI THAKKAR\n",
       "\n",
       "* ******* **. *********, ****...   \n",
       "5   \n",
       "/\n",
       "AMR\n",
       "HASSAN\n",
       "adcxpe@r.postjobfree.com\n",
       "613-***...   \n",
       "\n",
       "                                                 link       domain location  \n",
       "ID                                                                           \n",
       "1   https://www.postjobfree.com/resume/adp9ec/entr...  Engineering   Canada  \n",
       "2   https://www.postjobfree.com/resume/adn6b9/biom...  Engineering   Canada  \n",
       "3   https://www.postjobfree.com/resume/adeeic/biom...  Engineering   Canada  \n",
       "4   https://www.postjobfree.com/resume/adc4gn/biom...  Engineering   Canada  \n",
       "5   https://www.postjobfree.com/resume/adcxpe/soli...  Engineering   Canada  "
      ]
     },
     "execution_count": 52,
     "metadata": {},
     "output_type": "execute_result"
    }
   ],
   "source": [
    "# Reseting the index\n",
    "df.set_index(['ID'], inplace=True, drop=True)\n",
    "df.head()"
   ]
  },
  {
   "cell_type": "markdown",
   "id": "5eab686d",
   "metadata": {},
   "source": [
    "## Removing Special Character"
   ]
  },
  {
   "cell_type": "code",
   "execution_count": 53,
   "id": "c9b8ac7d",
   "metadata": {},
   "outputs": [],
   "source": [
    "d=df.resume.str.encode('ascii', 'ignore').str.decode('ascii')"
   ]
  },
  {
   "cell_type": "code",
   "execution_count": 54,
   "id": "2a6a362a",
   "metadata": {},
   "outputs": [
    {
     "data": {
      "text/html": [
       "<div>\n",
       "<style scoped>\n",
       "    .dataframe tbody tr th:only-of-type {\n",
       "        vertical-align: middle;\n",
       "    }\n",
       "\n",
       "    .dataframe tbody tr th {\n",
       "        vertical-align: top;\n",
       "    }\n",
       "\n",
       "    .dataframe thead th {\n",
       "        text-align: right;\n",
       "    }\n",
       "</style>\n",
       "<table border=\"1\" class=\"dataframe\">\n",
       "  <thead>\n",
       "    <tr style=\"text-align: right;\">\n",
       "      <th></th>\n",
       "      <th>job_title</th>\n",
       "      <th>resume</th>\n",
       "      <th>Cleaned_Resume</th>\n",
       "      <th>link</th>\n",
       "      <th>domain</th>\n",
       "      <th>location</th>\n",
       "    </tr>\n",
       "    <tr>\n",
       "      <th>ID</th>\n",
       "      <th></th>\n",
       "      <th></th>\n",
       "      <th></th>\n",
       "      <th></th>\n",
       "      <th></th>\n",
       "      <th></th>\n",
       "    </tr>\n",
       "  </thead>\n",
       "  <tbody>\n",
       "    <tr>\n",
       "      <th>1</th>\n",
       "      <td>Entry Data Biomedical Engineer</td>\n",
       "      <td>* ** *\n",
       "Abbas Nasoori\n",
       "Electrical Engineer &amp; Bi...</td>\n",
       "      <td>\\n* ** *\\nAbbas Nasoori\\nElectrical Engineer &amp;...</td>\n",
       "      <td>https://www.postjobfree.com/resume/adp9ec/entr...</td>\n",
       "      <td>Engineering</td>\n",
       "      <td>Canada</td>\n",
       "    </tr>\n",
       "    <tr>\n",
       "      <th>2</th>\n",
       "      <td>Biomedical Engineer Safety Officer</td>\n",
       "      <td>BIJAN DADOLAHI SARAB\n",
       "\n",
       "** ******** **** ****• ...</td>\n",
       "      <td>\\nBIJAN DADOLAHI SARAB\\n\\n** ******** **** ***...</td>\n",
       "      <td>https://www.postjobfree.com/resume/adn6b9/biom...</td>\n",
       "      <td>Engineering</td>\n",
       "      <td>Canada</td>\n",
       "    </tr>\n",
       "    <tr>\n",
       "      <th>3</th>\n",
       "      <td>Biomedical engineer electrical engineer medica...</td>\n",
       "      <td>Claudia Lutfallah\n",
       "Medical Devices Customer Re...</td>\n",
       "      <td>\\nClaudia Lutfallah\\nMedical Devices Customer ...</td>\n",
       "      <td>https://www.postjobfree.com/resume/adeeic/biom...</td>\n",
       "      <td>Engineering</td>\n",
       "      <td>Canada</td>\n",
       "    </tr>\n",
       "    <tr>\n",
       "      <th>4</th>\n",
       "      <td>Biomedical Engineer</td>\n",
       "      <td>RIDDHI THAKKAR\n",
       "\n",
       "* ******* **. *********, ****...</td>\n",
       "      <td>\\nRIDDHI THAKKAR\\n\\n* ******* **. *********, *...</td>\n",
       "      <td>https://www.postjobfree.com/resume/adc4gn/biom...</td>\n",
       "      <td>Engineering</td>\n",
       "      <td>Canada</td>\n",
       "    </tr>\n",
       "    <tr>\n",
       "      <th>5</th>\n",
       "      <td>Biomedical Mechanical Engineer</td>\n",
       "      <td>/\n",
       "AMR\n",
       "HASSAN\n",
       "adcxpe@r.postjobfree.com\n",
       "613-***...</td>\n",
       "      <td>\\n/\\nAMR\\nHASSAN\\nadcxpe@r.postjobfree.com\\n61...</td>\n",
       "      <td>https://www.postjobfree.com/resume/adcxpe/soli...</td>\n",
       "      <td>Engineering</td>\n",
       "      <td>Canada</td>\n",
       "    </tr>\n",
       "  </tbody>\n",
       "</table>\n",
       "</div>"
      ],
      "text/plain": [
       "                                            job_title  \\\n",
       "ID                                                      \n",
       "1                      Entry Data Biomedical Engineer   \n",
       "2                  Biomedical Engineer Safety Officer   \n",
       "3   Biomedical engineer electrical engineer medica...   \n",
       "4                                 Biomedical Engineer   \n",
       "5                      Biomedical Mechanical Engineer   \n",
       "\n",
       "                                               resume  \\\n",
       "ID                                                      \n",
       "1   \n",
       "* ** *\n",
       "Abbas Nasoori\n",
       "Electrical Engineer & Bi...   \n",
       "2   \n",
       "BIJAN DADOLAHI SARAB\n",
       "\n",
       "** ******** **** ****• ...   \n",
       "3   \n",
       "Claudia Lutfallah\n",
       "Medical Devices Customer Re...   \n",
       "4   \n",
       "RIDDHI THAKKAR\n",
       "\n",
       "* ******* **. *********, ****...   \n",
       "5   \n",
       "/\n",
       "AMR\n",
       "HASSAN\n",
       "adcxpe@r.postjobfree.com\n",
       "613-***...   \n",
       "\n",
       "                                       Cleaned_Resume  \\\n",
       "ID                                                      \n",
       "1   \\n* ** *\\nAbbas Nasoori\\nElectrical Engineer &...   \n",
       "2   \\nBIJAN DADOLAHI SARAB\\n\\n** ******** **** ***...   \n",
       "3   \\nClaudia Lutfallah\\nMedical Devices Customer ...   \n",
       "4   \\nRIDDHI THAKKAR\\n\\n* ******* **. *********, *...   \n",
       "5   \\n/\\nAMR\\nHASSAN\\nadcxpe@r.postjobfree.com\\n61...   \n",
       "\n",
       "                                                 link       domain location  \n",
       "ID                                                                           \n",
       "1   https://www.postjobfree.com/resume/adp9ec/entr...  Engineering   Canada  \n",
       "2   https://www.postjobfree.com/resume/adn6b9/biom...  Engineering   Canada  \n",
       "3   https://www.postjobfree.com/resume/adeeic/biom...  Engineering   Canada  \n",
       "4   https://www.postjobfree.com/resume/adc4gn/biom...  Engineering   Canada  \n",
       "5   https://www.postjobfree.com/resume/adcxpe/soli...  Engineering   Canada  "
      ]
     },
     "execution_count": 54,
     "metadata": {},
     "output_type": "execute_result"
    }
   ],
   "source": [
    "df.insert(2, 'Cleaned_Resume', d)\n",
    "df.head()"
   ]
  },
  {
   "cell_type": "code",
   "execution_count": 55,
   "id": "20d995ea",
   "metadata": {},
   "outputs": [
    {
     "data": {
      "text/plain": [
       "9578"
      ]
     },
     "execution_count": 55,
     "metadata": {},
     "output_type": "execute_result"
    }
   ],
   "source": [
    "df['resume'].count()"
   ]
  },
  {
   "cell_type": "markdown",
   "id": "e92ca323",
   "metadata": {},
   "source": [
    "## Removing Duplicates"
   ]
  },
  {
   "cell_type": "markdown",
   "id": "2afa32d6",
   "metadata": {},
   "source": [
    "### 500 Resume were removed"
   ]
  },
  {
   "cell_type": "code",
   "execution_count": 56,
   "id": "60c6e78b",
   "metadata": {},
   "outputs": [],
   "source": [
    "df=df.drop_duplicates(subset=['Cleaned_Resume'])"
   ]
  },
  {
   "cell_type": "code",
   "execution_count": 57,
   "id": "facc203b",
   "metadata": {},
   "outputs": [
    {
     "data": {
      "text/plain": [
       "9078"
      ]
     },
     "execution_count": 57,
     "metadata": {},
     "output_type": "execute_result"
    }
   ],
   "source": [
    "df['Cleaned_Resume'].count()"
   ]
  },
  {
   "cell_type": "markdown",
   "id": "d0f7840a",
   "metadata": {},
   "source": [
    "## Counting Resumes Based on Domains and Locations"
   ]
  },
  {
   "cell_type": "code",
   "execution_count": 58,
   "id": "5040f3cf",
   "metadata": {},
   "outputs": [
    {
     "data": {
      "text/plain": [
       "<StringArray>\n",
       "[   'Engineering',  'Entertainment', 'Administration',       'Business',\n",
       "  'Communication',      'Education',        'Science',     'Technology',\n",
       "       'Medicine',          'Sales',      'Marketing']\n",
       "Length: 11, dtype: string"
      ]
     },
     "execution_count": 58,
     "metadata": {},
     "output_type": "execute_result"
    }
   ],
   "source": [
    "df['domain'].unique()"
   ]
  },
  {
   "cell_type": "code",
   "execution_count": 59,
   "id": "b138f68b",
   "metadata": {},
   "outputs": [
    {
     "data": {
      "text/plain": [
       "<AxesSubplot:>"
      ]
     },
     "execution_count": 59,
     "metadata": {},
     "output_type": "execute_result"
    },
    {
     "data": {
      "image/png": "[encoded data removed]",
      "text/plain": [
       "<Figure size 1080x432 with 1 Axes>"
      ]
     },
     "metadata": {
      "needs_background": "light"
     },
     "output_type": "display_data"
    }
   ],
   "source": [
    "df_category=df['domain'].value_counts()\n",
    "df_category.plot(kind='bar', figsize=(15,6))"
   ]
  },
  {
   "cell_type": "code",
   "execution_count": 60,
   "id": "1c34e9d8",
   "metadata": {},
   "outputs": [
    {
     "data": {
      "text/plain": [
       "<StringArray>\n",
       "['Canada', 'Egypt', 'US', 'UK', 'Australia']\n",
       "Length: 5, dtype: string"
      ]
     },
     "execution_count": 60,
     "metadata": {},
     "output_type": "execute_result"
    }
   ],
   "source": [
    "df['location'].unique()"
   ]
  },
  {
   "cell_type": "code",
   "execution_count": 61,
   "id": "b1708637",
   "metadata": {},
   "outputs": [
    {
     "data": {
      "text/plain": [
       "<AxesSubplot:>"
      ]
     },
     "execution_count": 61,
     "metadata": {},
     "output_type": "execute_result"
    },
    {
     "data": {
      "image/png": "[encoded data removed]",
      "text/plain": [
       "<Figure size 1080x432 with 1 Axes>"
      ]
     },
     "metadata": {
      "needs_background": "light"
     },
     "output_type": "display_data"
    }
   ],
   "source": [
    "df_location=df['location'].value_counts()\n",
    "df_location.plot(kind='bar', figsize=(15,6))"
   ]
  },
  {
   "cell_type": "code",
   "execution_count": 62,
   "id": "7b65eaac",
   "metadata": {},
   "outputs": [
    {
     "data": {
      "text/plain": [
       "US           4874\n",
       "Canada       2137\n",
       "Egypt        1017\n",
       "UK            697\n",
       "Australia     353\n",
       "Name: location, dtype: Int64"
      ]
     },
     "execution_count": 62,
     "metadata": {},
     "output_type": "execute_result"
    }
   ],
   "source": [
    "df_location"
   ]
  },
  {
   "cell_type": "code",
   "execution_count": 63,
   "id": "221b1509",
   "metadata": {},
   "outputs": [
    {
     "data": {
      "text/plain": [
       "Engineering       1760\n",
       "Technology        1107\n",
       "Medicine          1092\n",
       "Business           971\n",
       "Sales              807\n",
       "Entertainment      703\n",
       "Communication      677\n",
       "Education          672\n",
       "Administration     565\n",
       "Marketing          422\n",
       "Science            302\n",
       "Name: domain, dtype: Int64"
      ]
     },
     "execution_count": 63,
     "metadata": {},
     "output_type": "execute_result"
    }
   ],
   "source": [
    "df_category"
   ]
  },
  {
   "cell_type": "code",
   "execution_count": 65,
   "id": "c5fcca47",
   "metadata": {},
   "outputs": [],
   "source": [
    "df.to_csv('./BulkResumesCleaned.csv')"
   ]
  }
 ],
 "metadata": {
  "kernelspec": {
   "display_name": "Python 3 (ipykernel)",
   "language": "python",
   "name": "python3"
  },
  "language_info": {
   "codemirror_mode": {
    "name": "ipython",
    "version": 3
   },
   "file_extension": ".py",
   "mimetype": "text/x-python",
   "name": "python",
   "nbconvert_exporter": "python",
   "pygments_lexer": "ipython3",
   "version": "3.9.12"
  }
 },
 "nbformat": 4,
 "nbformat_minor": 5
}
